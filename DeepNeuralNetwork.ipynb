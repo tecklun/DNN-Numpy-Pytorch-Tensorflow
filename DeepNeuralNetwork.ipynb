{
 "cells": [
  {
   "cell_type": "markdown",
   "metadata": {},
   "source": [
    "# Building of Deep Neural Network using Numpy, Pytorch and Tensorflow\n",
    "<img src=\"images/DNN_flow.png\" style=\"width:800px;height:500px;\">\n",
    "<caption><center> Figure 1 : Flow for Constructing a Deep Neural Network</center></caption><br>\n",
    "\n",
    "Notebook for implementation of linear (dense) deep neural network using:\n",
    "1. Numpy : Uses CPU resources for implementation\n",
    "2. Pytorch : Uses GPU resources for implementation\n",
    "3. Tensorflow : Uses GPU resources for implementation\n",
    "\n",
    "Global variables used in this notebook. Notebook presented in a flat structure for understanding of workings of the DNN implementation.\n",
    "\n",
    "Codes in each step are broken down into 5 cells:\n",
    "1. Cell 1 : Hyper-parameters, parameters to be intialized for each step\n",
    "2. Cell 2 : Function call for Numpy\n",
    "3. Cell 3 : Function call for pytorch\n",
    "4. Cell 4 : Function call for tensorflow\n",
    "5. Cell 5 : Execute function calls"
   ]
  },
  {
   "cell_type": "markdown",
   "metadata": {},
   "source": [
    "# Step 0 : Import Libraries, Create dataset for DNN implementation"
   ]
  },
  {
   "cell_type": "code",
   "execution_count": 76,
   "metadata": {},
   "outputs": [
    {
     "name": "stdout",
     "output_type": "stream",
     "text": [
      "Value of m = 800, Shape X_test = (2, 200), Shape X = (2, 800)\n",
      "\n"
     ]
    },
    {
     "data": {
      "image/png": "[encoded data removed]",
      "text/plain": [
       "<Figure size 432x288 with 1 Axes>"
      ]
     },
     "metadata": {
      "needs_background": "light"
     },
     "output_type": "display_data"
    }
   ],
   "source": [
    "# Import libraries\n",
    "import numpy as np\n",
    "import torch\n",
    "import tensorflow as tf\n",
    "from matplotlib import pyplot as plt\n",
    "\n",
    "# Create and visualize dataset\n",
    "m = 1000     # m = total number of samples (set to even number)\n",
    "n = 2      # n = number of features of input. 2 implies 2 dimensional (2D)\n",
    "\n",
    "\n",
    "# Creation of dataset for Y = 0\n",
    "angles = np.arange(0, 360, 360 / (m//2))   # Half the sample will be Y=0\n",
    "amp_X0 = np.random.randn(m//2)\n",
    "X0 = np.zeros((n+1, m//2))\n",
    "X0[0] = np.sin(angles * np.pi/180) * amp_X0\n",
    "X0[1] = np.cos(angles * np.pi/180) * amp_X0\n",
    "X0[2] = np.zeros((m//2))\n",
    "# print('X0 shape = {}, X0 = \\n{}\\n'.format(X0.shape, X0))\n",
    "\n",
    "# Creation of dataset for Y = 1\n",
    "angles = np.arange(0, 360, 360 / (m - m//2))\n",
    "amp_X1 = np.random.randn((m - m//2))*3\n",
    "X1 = np.zeros((n+1, (m - m//2)))\n",
    "X1[0] = np.sin(angles * np.pi/180) * amp_X1 + amp_X0*3 + 10\n",
    "X1[1] = np.cos(angles * np.pi/180) * amp_X1 + amp_X0*3 + 10\n",
    "X1[2] = np.ones(((m - m//2)))\n",
    "# print('X1 shape = {}, X1 = \\n{}\\n'.format(X1.shape, X1))\n",
    "\n",
    "# Combine and shuffle arrays\n",
    "X = np.concatenate((X0, X1),axis=1)\n",
    "X = X.T\n",
    "np.random.shuffle(X)    # Shuffle only works on axis=0, thus need the X.T before and after\n",
    "X = X.T\n",
    "Y = X[2:]\n",
    "X = X[0:2]\n",
    "\n",
    "# Visualize dataset with plot\n",
    "plt.scatter(X0[0],X0[1])\n",
    "plt.scatter(X1[0],X1[1])\n",
    "plt.xlabel('Feature 0')\n",
    "plt.ylabel('Feature 1')\n",
    "plt.legend(['Label 0', 'Label 1'])\n",
    "plt.title('Distribution of dataset for DNN')\n",
    "\n",
    "# Remove 20% of the dataset to be reserved for testing\n",
    "X_test = X[:,int(np.floor(0.8*m)):]\n",
    "Y_test = Y[:,int(np.floor(0.8*m)):]\n",
    "X = X[:,:int(np.floor(0.8*m))]\n",
    "Y = Y[:,:int(np.floor(0.8*m))]\n",
    "m = Y.shape[1]\n",
    "print('Value of m = {}, Shape X_test = {}, Shape X = {}\\n'.format(m, X_test.shape, X.shape))"
   ]
  },
  {
   "cell_type": "markdown",
   "metadata": {},
   "source": [
    "# Step 1: Initialize the Parameters\n",
    "Initialize the parameters (weights (W) and bias (b)) for the DNN implementation in all 3 libraries. \n",
    "1. init_model_numpy() \n",
    "2. init_model_torch()\n",
    "3. init_model_tf()\n",
    "\n",
    "<img src=\"images/initialization.png\" style=\"width:800px;height:500px;\">\n",
    "<caption><center> Figure 2 : Initialize the Parameters</center></caption><br>"
   ]
  },
  {
   "cell_type": "code",
   "execution_count": 126,
   "metadata": {},
   "outputs": [],
   "source": [
    "# Hyper-parameters definition\n",
    "L = 4                 # Total number of layers defined to be 4\n",
    "nl = [56, 128, 56, 1]\n",
    "\n",
    "# Codes to include input features as layer 0 nodes of DNN\n",
    "n_l = [n] \n",
    "n_l.extend(nl)"
   ]
  },
  {
   "cell_type": "code",
   "execution_count": 127,
   "metadata": {},
   "outputs": [],
   "source": [
    "def init_model_numpy(db_prt = 0):\n",
    "    # Numpy initialization of weights and bias\n",
    "    global W_numpy, b_numpy\n",
    "    W_numpy = [0]\n",
    "    b_numpy = [0]\n",
    "    for i in range(1, len(n_l)):\n",
    "        W_numpy_temp = np.random.randn(n_l[i], n_l[i-1]) * 0.01    # Multiply by a small number 0.01 to reduce the value of z, to speed up learning (esp for sigmoid activation)\n",
    "        W_numpy.append(W_numpy_temp)\n",
    "\n",
    "        b_numpy_temp = np.ones((n_l[i], 1)) * 0.01   # Add a small bias to prevent divide by 0 operation\n",
    "        b_numpy.append(b_numpy_temp)\n",
    "        \n",
    "    if db_prt == 1: \n",
    "        print('Shapes of W_numpy are: {}, {}, {}, {}'.format(W_numpy[1].shape, W_numpy[2].shape, W_numpy[3].shape, W_numpy[4].shape))\n",
    "        print('Shapes of b_numpy are: {}, {}, {}, {}\\n'.format(b_numpy[1].shape, b_numpy[2].shape, b_numpy[3].shape, b_numpy[4].shape))"
   ]
  },
  {
   "cell_type": "code",
   "execution_count": 128,
   "metadata": {},
   "outputs": [],
   "source": [
    "def init_model_torch(db_prt = 0):\n",
    "    ## Pytorch initialization of weights and bias\n",
    "    global W_torch, b_torch\n",
    "    W_torch = [0]\n",
    "    b_torch = [0]\n",
    "    for i in range(1, len(W_numpy)):    # Convert the numpy array to torch\n",
    "        W_torch.append(torch.tensor(W_numpy[i]))\n",
    "        b_torch.append(torch.tensor(b_numpy[i]))\n",
    "        \n",
    "    if db_prt == 1:\n",
    "        print('Shapes of W_torch are: {}, {}, {}, {}'.format(W_torch[1].shape, W_torch[2].shape, W_torch[3].shape, W_torch[4].shape))\n",
    "        print('Shapes of b_torch are: {}, {}, {}, {}\\n'.format(b_torch[1].shape, b_torch[2].shape, b_torch[3].shape, b_torch[4].shape))\n"
   ]
  },
  {
   "cell_type": "code",
   "execution_count": 129,
   "metadata": {},
   "outputs": [],
   "source": [
    "def init_model_tf(db_prt = 0):\n",
    "    ## Tensorflow initialization of weights and bias\n",
    "    global W_tf, b_tf\n",
    "    W_tf = [0]\n",
    "    b_tf = [0]\n",
    "    for i in range(1, len(W_numpy)):    # Convert the numpy array to torch\n",
    "        W_tf.append(tf.convert_to_tensor(W_numpy[i]))\n",
    "        b_tf.append(tf.convert_to_tensor(b_numpy[i]))\n",
    "    \n",
    "    if db_prt == 1:\n",
    "        print('Shapes of W_tf are: {}, {}, {}, {}'.format(W_tf[1].shape, W_tf[2].shape, W_tf[3].shape, W_tf[4].shape))\n",
    "        print('Shapes of b_tf are: {}, {}, {}, {}\\n'.format(b_tf[1].shape, b_tf[2].shape, b_tf[3].shape, b_tf[4].shape))"
   ]
  },
  {
   "cell_type": "code",
   "execution_count": 130,
   "metadata": {},
   "outputs": [],
   "source": [
    "# Initialize parameters by calling the respective function calls\n",
    "init_model_numpy()   # Numpy init model\n",
    "init_model_torch()   # pytorch init model\n",
    "init_model_tf()      # tensorflow init model"
   ]
  },
  {
   "cell_type": "markdown",
   "metadata": {},
   "source": [
    "# Step 2: Perform Forward Pass\n",
    "<img src=\"images/forward_pass.png\" style=\"width:800px;height:500px;\">\n",
    "<caption><center> Figure 3 : Perform forward pass </center></caption><br>\n",
    "\n",
    "Note:\n",
    "- For all hidden layers, ReLU activation function is used\n",
    "- For last layer (i.e. output layer), Sigmoid activation function is used\n",
    "- Cross Entropy Loss is used as the Cost function"
   ]
  },
  {
   "cell_type": "code",
   "execution_count": 82,
   "metadata": {},
   "outputs": [],
   "source": [
    "# Hyper-parameters definition"
   ]
  },
  {
   "cell_type": "code",
   "execution_count": 165,
   "metadata": {},
   "outputs": [],
   "source": [
    "def forward_numpy(X, Y, W_numpy, b_numpy, db_prt = 0): \n",
    "    # Numpy forward pass\n",
    "    # Definition of sigmoid and relu function for numpy\n",
    "    def sigmoid(Z):\n",
    "        return 1 / (1 + np.exp(-Z))\n",
    "\n",
    "    def relu(Z):\n",
    "        return np.maximum(Z,0)\n",
    "\n",
    "    Z_numpy = [0]\n",
    "    A_numpy = [X]\n",
    "    Y_numpy = Y\n",
    "    for i in range(1, len(n_l)):\n",
    "        Z_temp = np.matmul(W_numpy[i],A_numpy[i-1]) + b_numpy[i]\n",
    "        Z_numpy.append(Z_temp)\n",
    "        if i != len(n_l):\n",
    "            A_temp = relu(Z_temp)   # ReLU activation for all hidden layers\n",
    "            A_numpy.append(A_temp) \n",
    "        else:\n",
    "            A_temp = sigmoid(Z_temp)  # Sigmoid activation for last (output) layer. Binary classification\n",
    "            A_numpy.append(A_temp)   \n",
    "\n",
    "#     assert( (A_numpy[L] < 0).any()), print(A_numpy[L])\n",
    "#     assert( (1 - A_numpy[L] < 0).any()), print(1 - A_numpy[L])\n",
    "    J_numpy = (-1)*np.sum(Y_numpy*np.log(A_numpy[L]) + (1-Y_numpy)*np.log(1-A_numpy[L]))/m\t\n",
    "    \n",
    "    return Z_numpy, A_numpy, Y_numpy, J_numpy"
   ]
  },
  {
   "cell_type": "code",
   "execution_count": 84,
   "metadata": {},
   "outputs": [],
   "source": [
    "def forward_torch(X, Y, W_torch, b_torch, db_prt = 0): \n",
    "    # Pytorch forward pass\n",
    "    Z_torch = [0]\n",
    "    A_torch = [torch.tensor(X)]\n",
    "    Y_torch = torch.tensor(Y)\n",
    "    sigmoid = torch.nn.Sigmoid()    # Use sigmoid definition from pytorch nn library\n",
    "    relu = torch.nn.ReLU()          # Use ReLU definition from pytorch nn library\n",
    "    for i in range(1, len(n_l)):\n",
    "        Z_temp = torch.matmul(W_torch[i],A_torch[i-1]) + b_torch[i]\n",
    "        Z_torch.append(Z_temp)\n",
    "        if i != len(n_l):\n",
    "            A_temp = relu(Z_temp)   # ReLU activation for all hidden layers\n",
    "            A_torch.append(A_temp) \n",
    "        else:\n",
    "            A_temp = sigmoid(Z_temp)  # Sigmoid activation for last (output) layer. Binary classification\n",
    "            A_torch.append(A_temp)   \n",
    "    J_torch = (-1)*torch.sum(Y_torch*torch.log(A_torch[L]) +  (1-Y_torch)*torch.log(1-A_torch[L]))/m\n",
    "    \n",
    "    return Z_torch, A_torch, Y_torch, J_torch"
   ]
  },
  {
   "cell_type": "code",
   "execution_count": 85,
   "metadata": {},
   "outputs": [],
   "source": [
    "def forward_tf(X, Y, W_tf, b_tf, db_prt = 0): \n",
    "    # Tensorflow forward pass\n",
    "    Z_tf = [0]\n",
    "    A_tf = [tf.convert_to_tensor(X)]\n",
    "    Y_tf = tf.convert_to_tensor(Y)\n",
    "    for i in range(1, len(n_l)):\n",
    "    #     print(W_tf[i].shape, A_tf[i-1].shape, tf.matmul(W_tf[i],A_tf[i-1]).shape)\n",
    "\n",
    "        Z_temp = tf.matmul(W_tf[i],A_tf[i-1]) + b_tf[i]\n",
    "        Z_tf.append(Z_temp)\n",
    "        if i != len(n_l):\n",
    "            A_temp = tf.keras.activations.relu(Z_temp)   # ReLU activation for all hidden layers\n",
    "            A_tf.append(A_temp) \n",
    "        else:\n",
    "            A_temp = tf.keras.activations.sigmoid(Z_temp)  # Sigmoid activation for last (output) layer. Binary classification\n",
    "            A_tf.append(A_temp)  \n",
    "    J_tf = (-1)*tf.math.reduce_sum(Y_tf*tf.math.log(A_tf[L]) +  (1-Y_tf)*tf.math.log(1-A_tf[L]))/m\n",
    "    \n",
    "    return Z_tf, A_tf, Y_tf, J_tf"
   ]
  },
  {
   "cell_type": "code",
   "execution_count": 86,
   "metadata": {},
   "outputs": [
    {
     "name": "stdout",
     "output_type": "stream",
     "text": [
      "\n",
      "Cost calculated from numpy, pytorch and tensorflow are 3.478830348985075, 3.478830348985075 and 3.478830348985075\n"
     ]
    }
   ],
   "source": [
    "# Perform forward pass on all 3 models\n",
    "Z_numpy, A_numpy, Y_numpy, J_numpy = forward_numpy(X, Y, W_numpy, b_numpy)\n",
    "Z_torch, A_torch, Y_torch, J_torch = forward_torch(X, Y, W_torch, b_torch)\n",
    "Z_tf, A_tf, Y_tf, J_tf = forward_tf(X, Y, W_tf, b_tf)\n",
    "\n",
    "# Get Cost from all models\n",
    "print('\\nCost calculated from numpy, pytorch and tensorflow are {}, {} and {}'.format(J_numpy, J_torch, J_tf))"
   ]
  },
  {
   "cell_type": "markdown",
   "metadata": {},
   "source": [
    "# Step 3: Perform Backward Pass\n",
    "<img src=\"images/backward_pass.png\" style=\"width:800px;height:500px;\">\n",
    "<caption><center> Figure 4 : Perform backward pass </center></caption><br>"
   ]
  },
  {
   "cell_type": "code",
   "execution_count": 87,
   "metadata": {},
   "outputs": [],
   "source": [
    "def backward_numpy(db_prt = 0):\n",
    "    global dA_numpy, dZ_numpy, dW_numpy, db_numpy\n",
    "    \n",
    "    # Numpy backward pass\n",
    "    dA_numpy = []\n",
    "    dZ_numpy = []\n",
    "    dW_numpy = []\n",
    "    db_numpy = []\n",
    "\n",
    "    # For last (output) layer\n",
    "    dAL = - (np.divide(Y_numpy, A_numpy[L]) - np.divide(1 - Y_numpy, 1 - A_numpy[L]))   # Find grad of last activation layer due to CEL cost function\n",
    "    dZ_temp = dAL * A_numpy[L] * (1 - A_numpy[L])    # Backward function for sigmoid activation\n",
    "    dW_temp = np.matmul(dZ_temp, A_numpy[L-1].T) / m\n",
    "    db_temp = np.sum(dZ_temp, axis=1, keepdims=True)/m\n",
    "    dA_numpy.append(dAL)\n",
    "    dZ_numpy.append(dZ_temp)\n",
    "    dW_numpy.append(dW_temp)\n",
    "    db_numpy.append(db_temp)\n",
    "\n",
    "    # For all other layers\n",
    "    for i in reversed(range(1, L)):\n",
    "        dA_temp = np.matmul(W_numpy[i+1].T,dZ_numpy[-1])\t\n",
    "        dZ_temp = np.array(dA_temp, copy=True)         # Backward pass for ReLU, step 1: copy array\n",
    "        dZ_temp[Z_numpy[i] <= 0] = 0                   # Backward pass for ReLU, step 2: Set all dZ=0 where Z < 0\n",
    "        dW_temp = np.matmul(dZ_temp, A_numpy[i-1].T) / m\n",
    "        db_temp = np.sum(dZ_temp, axis=1, keepdims=True)/m\n",
    "        dA_numpy.append(dA_temp)\n",
    "        dZ_numpy.append(dZ_temp)\n",
    "        dW_numpy.append(dW_temp)\n",
    "        db_numpy.append(db_temp)\n",
    "\n",
    "\n",
    "    # Reverse the list so that indexes are respective to layer number.\n",
    "    # This is so as for backward pass, all calculations are done from last layer to first layer\n",
    "    dA_numpy.append(0)    # Append addition 0 so that after reverse, dA0 correspond to A0 with same dimension\n",
    "    dZ_numpy.append(0)\n",
    "    dW_numpy.append(0)\n",
    "    db_numpy.append(0)\n",
    "    dA_numpy = list(reversed(dA_numpy))\n",
    "    dZ_numpy = list(reversed(dZ_numpy))\n",
    "    dW_numpy = list(reversed(dW_numpy))\n",
    "    db_numpy = list(reversed(db_numpy))"
   ]
  },
  {
   "cell_type": "code",
   "execution_count": 88,
   "metadata": {},
   "outputs": [],
   "source": [
    "def backward_torch(db_prt = 0):\n",
    "    # Pytorch backward pass\n",
    "    global dA_torch, dZ_torch, dW_torch, db_torch\n",
    "    \n",
    "    dA_torch = []\n",
    "    dZ_torch = []\n",
    "    dW_torch = []\n",
    "    db_torch = []\n",
    "\n",
    "    # For last (output) layer\n",
    "    dAL = - (torch.div(Y_torch, A_torch[L]) - torch.div(1 - Y_torch, 1 - A_torch[L]))   # Find grad of last activation layer due to CEL cost function\n",
    "    dZ_temp = dAL * A_torch[L] * (1 - A_torch[L])    # Backward function for sigmoid activation\n",
    "    dW_temp = torch.matmul(dZ_temp, A_torch[L-1].T) / m\n",
    "    db_temp = torch.sum(dZ_temp, dim=1, keepdim=True)/m\n",
    "    dA_torch.append(dAL)\n",
    "    dZ_torch.append(dZ_temp)\n",
    "    dW_torch.append(dW_temp)\n",
    "    db_torch.append(db_temp)\n",
    "\n",
    "    # For all other layers\n",
    "    for i in reversed(range(1, L)):\n",
    "        dA_temp = torch.matmul(W_torch[i+1].T,dZ_torch[-1])\t\n",
    "        dZ_temp = dA_temp.clone()                      # Backward pass for ReLU, step 1: copy array\n",
    "        dZ_temp[Z_torch[i] <= 0] = 0                   # Backward pass for ReLU, step 2: Set all dZ=0 where Z < 0\n",
    "        dW_temp = torch.matmul(dZ_temp, A_torch[i-1].T) / m\n",
    "        db_temp = torch.sum(dZ_temp, dim=1, keepdim=True)/m\n",
    "        dA_torch.append(dA_temp)\n",
    "        dZ_torch.append(dZ_temp)\n",
    "        dW_torch.append(dW_temp)\n",
    "        db_torch.append(db_temp)\n",
    "\n",
    "    # Reverse the list so that indexes are respective to layer number.\n",
    "    # This is so as for backward pass, all calculations are done from last layer to first layer\n",
    "    dA_torch.append(0)    # Append addition 0 so that after reverse, dA0 correspond to A0 with same dimension\n",
    "    dZ_torch.append(0)\n",
    "    dW_torch.append(0)\n",
    "    db_torch.append(0)\n",
    "    dA_torch = list(reversed(dA_torch))\n",
    "    dZ_torch = list(reversed(dZ_torch))\n",
    "    dW_torch = list(reversed(dW_torch))\n",
    "    db_torch = list(reversed(db_torch))"
   ]
  },
  {
   "cell_type": "code",
   "execution_count": 89,
   "metadata": {},
   "outputs": [],
   "source": [
    "def backward_tf(db_prt = 0):\n",
    "    # Tensorflow backward pass\n",
    "    global dA_tf, dZ_tf, dW_tf, db_tf\n",
    "    \n",
    "    dA_tf = []\n",
    "    dZ_tf = []\n",
    "    dW_tf = []\n",
    "    db_tf = []\n",
    "\n",
    "    # For last (output) layer\n",
    "    dAL = - (tf.math.divide(Y_tf, A_tf[L]) - tf.math.divide(1 - Y_tf, 1 - A_tf[L]))   # Find grad of last activation layer due to CEL cost function\n",
    "    dZ_temp = dAL * A_tf[L] * (1 - A_tf[L])    # Backward function for sigmoid activation\n",
    "    dW_temp = tf.matmul(dZ_temp, tf.transpose(A_tf[L-1])) / m\n",
    "    db_temp = tf.math.reduce_sum(dZ_temp, axis=1, keepdims=True)/m\n",
    "    dA_tf.append(dAL)\n",
    "    dZ_tf.append(dZ_temp)\n",
    "    dW_tf.append(dW_temp)\n",
    "    db_tf.append(db_temp)\n",
    "\n",
    "    # For all other layers\n",
    "    for i in reversed(range(1, L)):\n",
    "        dA_temp = tf.matmul(tf.transpose(W_tf[i+1]),dZ_tf[-1])\t\n",
    "        dZ_temp = tf.identity(dA_temp)                     # Backward pass for ReLU, step 1: copy array\n",
    "        dZ_temp = tf.where(Z_tf[i] > 0. , dZ_temp , [0])\n",
    "        dW_temp = tf.matmul(dZ_temp, tf.transpose(A_tf[i-1])) / m\n",
    "        db_temp = tf.math.reduce_sum(dZ_temp, axis=1, keepdims=True)/m\n",
    "        dA_tf.append(dA_temp)\n",
    "        dZ_tf.append(dZ_temp)\n",
    "        dW_tf.append(dW_temp)\n",
    "        db_tf.append(db_temp)\n",
    "\n",
    "    # Reverse the list so that indexes are respective to layer number.\n",
    "    # This is so as for backward pass, all calculations are done from last layer to first layer\n",
    "    dA_tf.append(0)    # Append addition 0 so that after reverse, dA0 correspond to A0 with same dimension\n",
    "    dZ_tf.append(0)\n",
    "    dW_tf.append(0)\n",
    "    db_tf.append(0)\n",
    "    dA_tf = list(reversed(dA_tf))\n",
    "    dZ_tf = list(reversed(dZ_tf))\n",
    "    dW_tf = list(reversed(dW_tf))\n",
    "    db_tf = list(reversed(db_tf))"
   ]
  },
  {
   "cell_type": "code",
   "execution_count": 124,
   "metadata": {},
   "outputs": [
    {
     "name": "stdout",
     "output_type": "stream",
     "text": [
      "dW_numpy[1].shape and W_numpy[1].shape are (56, 2) and (56, 2)\n",
      "\n",
      "dW_torch[1].shape and W_torch[1].shape are torch.Size([56, 2]) and torch.Size([56, 2])\n",
      "\n",
      "dW_tf[1].shape and W_tf[1].shape are (56, 2) and (56, 2)\n",
      "\n"
     ]
    }
   ],
   "source": [
    "# Perform backward pass on all 3 models\n",
    "backward_numpy()\n",
    "backward_torch()\n",
    "backward_tf()\n",
    "\n",
    "# Quick check to verify shapes are correct\n",
    "print('dW_numpy[1].shape and W_numpy[1].shape are {} and {}\\n'.format(dW_numpy[1].shape, W_numpy[1].shape))\n",
    "print('dW_torch[1].shape and W_torch[1].shape are {} and {}\\n'.format(dW_torch[1].shape, W_torch[1].shape))\n",
    "print('dW_tf[1].shape and W_tf[1].shape are {} and {}\\n'.format(dW_tf[1].shape, W_tf[1].shape))"
   ]
  },
  {
   "cell_type": "markdown",
   "metadata": {},
   "source": [
    "# Step 4: Update Parameters\n",
    "<img src=\"images/update_params.png\" style=\"width:800px;height:500px;\">\n",
    "<caption><center> Figure 5 : Update Parameters </center></caption><br>"
   ]
  },
  {
   "cell_type": "code",
   "execution_count": 91,
   "metadata": {},
   "outputs": [],
   "source": [
    "# Hyper-parameters definition\n",
    "learn_rate = 0.01"
   ]
  },
  {
   "cell_type": "code",
   "execution_count": 92,
   "metadata": {},
   "outputs": [],
   "source": [
    "def update_numpy():\n",
    "    # Numpy update\n",
    "    for i in range(1,L+1):\n",
    "        W_numpy[i] = W_numpy[i] - learn_rate*dW_numpy[i]\n",
    "        b_numpy[i] = b_numpy[i] - learn_rate*db_numpy[i]"
   ]
  },
  {
   "cell_type": "code",
   "execution_count": 93,
   "metadata": {},
   "outputs": [],
   "source": [
    "def update_torch():\n",
    "    # Pytorch update\n",
    "    for i in range(1,L+1):\n",
    "        W_torch[i] = W_torch[i] - learn_rate*dW_torch[i]\n",
    "        b_torch[i] = b_torch[i] - learn_rate*db_torch[i]"
   ]
  },
  {
   "cell_type": "code",
   "execution_count": 94,
   "metadata": {},
   "outputs": [],
   "source": [
    "def update_tf():\n",
    "    # Tensorflow update\n",
    "    for i in range(1,L+1):\n",
    "        W_tf[i] = W_tf[i] - learn_rate*dW_tf[i]\n",
    "        b_tf[i] = b_tf[i] - learn_rate*db_tf[i]"
   ]
  },
  {
   "cell_type": "code",
   "execution_count": 95,
   "metadata": {},
   "outputs": [],
   "source": [
    "# Update parameters\n",
    "update_numpy()\n",
    "update_torch()\n",
    "update_tf()"
   ]
  },
  {
   "cell_type": "markdown",
   "metadata": {},
   "source": [
    "# Step 5: Perform prediction on model and calculate accuracy\n",
    "The first cell performs step 2 : forward pass to get the predicted y label based on the learnt weights, W and bias, b. \n",
    "\n",
    "Subsequent cells to calculate the accuracy of the prediction.\n",
    "\n",
    "Note that the prediction will be highly not accurate if this step is executed before a number of epoch of training on the train data. "
   ]
  },
  {
   "cell_type": "code",
   "execution_count": 106,
   "metadata": {},
   "outputs": [
    {
     "name": "stdout",
     "output_type": "stream",
     "text": [
      "\n",
      "Loss function calculated from numpy, pytorch and tensorflow are 0.6060954794874936, 0.6060954794874936 and 0.6060954794874938\n"
     ]
    }
   ],
   "source": [
    "# This cell uses the foward function defined in Step 2. \n",
    "# The test dataset is passed through the forward function to obtain the activation using the learnt weights and bias.\n",
    "\n",
    "# Numpy predicted label in A_test_numpy\n",
    "_, A_test_numpy, Y_test_numpy, J_test_numpy = forward_numpy(X_test, Y_test, W_numpy, b_numpy)\n",
    "\n",
    "# Pytorch predicted label in A_test_torch\n",
    "_, A_test_torch, Y_test_torch, J_test_torch = forward_torch(X_test, Y_test, W_torch, b_torch)\n",
    "\n",
    "# Tensorflow predicted label in A_test_tf\n",
    "_, A_test_tf, Y_test_tf, J_test_tf = forward_tf(X_test, Y_test, W_tf, b_tf)\n",
    "\n",
    "\n",
    "# Print output\n",
    "print('\\nLoss function calculated from numpy, pytorch and tensorflow are {}, {} and {}'.format(J_test_numpy, J_test_torch, J_test_tf))"
   ]
  },
  {
   "cell_type": "code",
   "execution_count": 107,
   "metadata": {},
   "outputs": [],
   "source": [
    "def predict_numpy(A_test_numpy_L, Y_test_numpy):\n",
    "    # Numpy prediction\n",
    "    predicted_numpy = A_test_numpy_L.round()\n",
    "    accuracy_numpy = np.count_nonzero(predicted_numpy == Y_test_numpy) / Y_test_numpy.shape[1] * 100\n",
    "    return accuracy_numpy, predicted_numpy"
   ]
  },
  {
   "cell_type": "code",
   "execution_count": 108,
   "metadata": {},
   "outputs": [],
   "source": [
    "def predict_torch(A_test_torch_L, Y_test_torch):\n",
    "    # Pytorch prediction\n",
    "    predicted_torch = A_test_torch_L.round()\n",
    "    accuracy_torch = torch.sum(predicted_torch == Y_test_torch) / float(Y_test_torch.shape[1]) * 100\n",
    "    return accuracy_torch, predicted_torch"
   ]
  },
  {
   "cell_type": "code",
   "execution_count": 109,
   "metadata": {},
   "outputs": [],
   "source": [
    "def predict_tf(A_test_tf_L, Y_test_tf):\n",
    "    # Tensorflow prediction\n",
    "    predicted_tf = tf.math.round(A_test_tf_L)\n",
    "    accuracy_tf = tf.reduce_sum(tf.cast(predicted_tf == Y_test_tf, tf.float32)) / Y_test_tf.shape[1] * 100\n",
    "    return accuracy_tf, predicted_tf"
   ]
  },
  {
   "cell_type": "code",
   "execution_count": 110,
   "metadata": {},
   "outputs": [
    {
     "name": "stdout",
     "output_type": "stream",
     "text": [
      "Accuracy of numpy, pytorch and tensorflow prediction are 52.5%, 52.499996185302734% and 52.499996185302734%respectively\n",
      "\n"
     ]
    },
    {
     "data": {
      "image/png": "[encoded data removed]",
      "text/plain": [
       "<Figure size 720x720 with 4 Axes>"
      ]
     },
     "metadata": {
      "needs_background": "light"
     },
     "output_type": "display_data"
    }
   ],
   "source": [
    "# Get prediction and plot out the prediction\n",
    "accuracy_numpy, predicted_numpy = predict_numpy(A_test_numpy[L], Y_test_numpy)\n",
    "accuracy_torch, predicted_torch = predict_torch(A_test_torch[L], Y_test_torch)\n",
    "accuracy_tf, predicted_tf = predict_tf(A_test_tf[L], Y_test_tf)\n",
    "\n",
    "print('Accuracy of numpy, pytorch and tensorflow prediction are {}%, {}% and {}%respectively\\n'.format(accuracy_numpy, accuracy_torch, accuracy_tf))\n",
    "\n",
    "\n",
    "# Get plot\n",
    "def plot_prediction(X_test, Y_test, predicted_numpy, predicted_torch, predicted_tf):\n",
    "    # Plot test data and prediction\n",
    "    \n",
    "    # Ground Truth\n",
    "    X0_test = X_test[:,Y_test[0,:] == 0]\n",
    "    X1_test = X_test[:,Y_test[0,:] == 1]\n",
    "\n",
    "    # Numpy prediction\n",
    "    X0_numpy = X_test[:,predicted_numpy[0,:] == 0]\n",
    "    X1_numpy = X_test[:,predicted_numpy[0,:] == 1]\n",
    "\n",
    "    # Torch prediction\n",
    "    X0_torch = X_test[:,predicted_torch[0,:] == 0]\n",
    "    X1_torch = X_test[:,predicted_torch[0,:] == 1]\n",
    "\n",
    "    # Tensorflow prediction\n",
    "    X0_tf = X_test[:,predicted_tf[0,:] == 0]\n",
    "    X1_tf = X_test[:,predicted_tf[0,:] == 1]\n",
    "\n",
    "\n",
    "    # Ground Truth\n",
    "    plt.figure(figsize=(10, 10))\n",
    "\n",
    "    plt.subplot(2, 2, 1)\n",
    "    plt.scatter(X0_test[0], X0_test[1])\n",
    "    plt.scatter(X1_test[0], X1_test[1])\n",
    "    plt.legend(['0', '1'])\n",
    "    plt.title('Ground Truth')\n",
    "\n",
    "    # Numpy Prediction\n",
    "    plt.subplot(2, 2, 2)\n",
    "    plt.scatter(X0_numpy[0], X0_numpy[1])\n",
    "    plt.scatter(X1_numpy[0], X1_numpy[1])\n",
    "    plt.legend(['0', '1'])\n",
    "    plt.title('Numpy Prediction')\n",
    "\n",
    "    # Pytorch Prediction\n",
    "    plt.subplot(2, 2, 3)\n",
    "    plt.scatter(X0_torch[0], X0_torch[1])\n",
    "    plt.scatter(X1_torch[0], X1_torch[1])\n",
    "    plt.legend(['0', '1'])\n",
    "    plt.title('Pytorch Prediction')\n",
    "\n",
    "    # Tensorflow Prediction\n",
    "    plt.subplot(2, 2, 4)\n",
    "    plt.scatter(X0_tf[0], X0_tf[1])\n",
    "    plt.scatter(X1_tf[0], X1_tf[1])\n",
    "    plt.legend(['0', '1'])\n",
    "    plt.title('Tensorflow Prediction')\n",
    "    \n",
    "plot_prediction(X_test, Y_test, predicted_numpy, predicted_torch, predicted_tf)"
   ]
  },
  {
   "cell_type": "markdown",
   "metadata": {},
   "source": [
    "# Step 6: Repeat steps 2 to 5 with a certain number of epoch to learn the relation"
   ]
  },
  {
   "cell_type": "code",
   "execution_count": 180,
   "metadata": {},
   "outputs": [],
   "source": [
    "# Set hyper parameters for learning\n",
    "EPOCH = 100\n",
    "\n",
    "# Import time library\n",
    "import time"
   ]
  },
  {
   "cell_type": "code",
   "execution_count": 171,
   "metadata": {},
   "outputs": [],
   "source": [
    "def learn_numpy():\n",
    "    # Learn for numpy \n",
    "    t_start = time.time()\n",
    "    print('Start model training in numpy')\n",
    "    \n",
    "    init_model_numpy()\n",
    "    for i in range(1, EPOCH+1):\n",
    "        print('.'.format(i), end='')\n",
    "        Z_numpy, A_numpy, Y_numpy, J_numpy = forward_numpy(X, Y, W_numpy, b_numpy)\n",
    "        backward_numpy()\n",
    "        update_numpy()\n",
    "    \n",
    "    # Get training results\n",
    "    _, A_test_numpy, Y_test_numpy, J_test_numpy = forward_numpy(X_test, Y_test, W_numpy, b_numpy)\n",
    "    accuracy_numpy, predicted_numpy = predict_numpy(A_test_numpy[L], Y_test_numpy)\n",
    "    print('\\nAccuracy = {}, Train Loss = {}, Test Loss = {}'.format(accuracy_numpy, J_numpy, J_test_numpy), end = '\\n')\n",
    "    t_end = time.time()\n",
    "    print('Total elapsed time for numpy implementation = {} ms\\n'.format((t_end-t_start)*100))"
   ]
  },
  {
   "cell_type": "code",
   "execution_count": 142,
   "metadata": {},
   "outputs": [],
   "source": [
    "def learn_torch():\n",
    "    # Learn for pytorch \n",
    "    t_start = time.time()\n",
    "    print('Start model training in pytorch')\n",
    "    \n",
    "    init_model_torch()\n",
    "    for i in range(1, EPOCH+1):\n",
    "        print('.'.format(i), end='')\n",
    "        Z_torch, A_torch, Y_torch, J_torch = forward_torch(X, Y, W_torch, b_torch)\n",
    "        backward_torch()\n",
    "        update_torch()\n",
    "    \n",
    "    # Get training results\n",
    "    _, A_test_torch, Y_test_torch, J_test_torch = forward_torch(X_test, Y_test, W_torch, b_torch)\n",
    "    accuracy_torch, predicted_torch = predict_torch(A_test_torch[L], Y_test_torch)\n",
    "    print('\\nAccuracy = {}, Train Loss = {}, Test Loss = {}'.format(accuracy_torch, J_torch, J_test_torch), end = '\\n')\n",
    "    t_end = time.time()\n",
    "    print('Total elapsed time for pytorch implementation = {} ms\\n'.format((t_end-t_start)*100))"
   ]
  },
  {
   "cell_type": "code",
   "execution_count": 154,
   "metadata": {},
   "outputs": [],
   "source": [
    "def learn_tf():\n",
    "    # Learn for tensorflow\n",
    "    t_start = time.time()\n",
    "    print('Start model training in tensorflow')\n",
    "    \n",
    "    init_model_tf()\n",
    "    for i in range(1, EPOCH+1):\n",
    "        print('.'.format(i), end='')\n",
    "        Z_tf, A_tf, Y_tf, J_tf = forward_tf(X, Y, W_tf, b_tf)\n",
    "        backward_tf()\n",
    "        update_tf()\n",
    "    \n",
    "    # Get training results\n",
    "    _, A_test_tf, Y_test_tf, J_test_tf = forward_tf(X_test, Y_test, W_tf, b_tf)\n",
    "    accuracy_tf, predicted_tf = predict_tf(A_test_tf[L], Y_test_tf)\n",
    "    print('\\nAccuracy = {}, Train Loss = {}, Test Loss = {}'.format(accuracy_tf, J_tf, J_test_tf), end = '\\n')\n",
    "    t_end = time.time()\n",
    "    print('Total elapsed time for pytorch implementation = {} ms\\n'.format((t_end-t_start)*100))"
   ]
  },
  {
   "cell_type": "code",
   "execution_count": 181,
   "metadata": {},
   "outputs": [
    {
     "name": "stdout",
     "output_type": "stream",
     "text": [
      "Start model training in pytorch\n",
      "....................................................................................................\n",
      "Accuracy = 47.5, Train Loss = nan, Test Loss = nan\n",
      "Total elapsed time for pytorch implementation = 44.383978843688965 ms\n",
      "\n"
     ]
    },
    {
     "data": {
      "image/png": "[encoded data removed]",
      "text/plain": [
       "<Figure size 720x720 with 4 Axes>"
      ]
     },
     "metadata": {
      "needs_background": "light"
     },
     "output_type": "display_data"
    }
   ],
   "source": [
    "# Learn model\n",
    "# learn_numpy()\n",
    "learn_torch()\n",
    "# learn_tf()\n",
    "\n",
    "# Get prediction and plot\n",
    "accuracy_numpy, predicted_numpy = predict_numpy(A_test_numpy[L], Y_test_numpy)\n",
    "# accuracy_torch, predicted_torch = predict_torch(A_test_torch[L], Y_test_torch)\n",
    "# accuracy_tf, predicted_tf = predict_tf(A_test_tf[L], Y_test_tf)\n",
    "\n",
    "plot_prediction(X_test, Y_test, predicted_numpy, predicted_torch, predicted_tf)"
   ]
  },
  {
   "cell_type": "code",
   "execution_count": null,
   "metadata": {},
   "outputs": [],
   "source": []
  }
 ],
 "metadata": {
  "kernelspec": {
   "display_name": "Python 3",
   "language": "python",
   "name": "python3"
  },
  "language_info": {
   "codemirror_mode": {
    "name": "ipython",
    "version": 3
   },
   "file_extension": ".py",
   "mimetype": "text/x-python",
   "name": "python",
   "nbconvert_exporter": "python",
   "pygments_lexer": "ipython3",
   "version": "3.7.6"
  }
 },
 "nbformat": 4,
 "nbformat_minor": 4
}
